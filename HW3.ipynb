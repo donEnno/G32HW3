{
 "cells": [
  {
   "cell_type": "code",
   "execution_count": 1,
   "id": "861e02c7",
   "metadata": {},
   "outputs": [],
   "source": [
    "import pandas as pd\n",
    "import numpy as np\n",
    "import requests as rq\n",
    "import bs4\n",
    "import lxml\n",
    "import os"
   ]
  },
  {
   "cell_type": "markdown",
   "id": "05e3e3e5",
   "metadata": {},
   "source": [
    "# 1. Data collection"
   ]
  },
  {
   "cell_type": "markdown",
   "id": "72bcb07a",
   "metadata": {},
   "source": [
    "## 1.1 Get the list of places"
   ]
  },
  {
   "cell_type": "code",
   "execution_count": 2,
   "id": "6b2893f9",
   "metadata": {},
   "outputs": [],
   "source": [
    "home_url = \"https://www.atlasobscura.com\"\n",
    "page_url = \"https://www.atlasobscura.com/places?sort=likes_count\"\n",
    "initial_result = rq.get(page_url)"
   ]
  },
  {
   "cell_type": "code",
   "execution_count": 3,
   "id": "d1eaa4ff",
   "metadata": {},
   "outputs": [],
   "source": [
    "top_places = []\n",
    "N = 2  # 400"
   ]
  },
  {
   "cell_type": "code",
   "execution_count": 4,
   "id": "dbe7bf14",
   "metadata": {},
   "outputs": [
    {
     "name": "stdout",
     "output_type": "stream",
     "text": [
      "https://www.atlasobscura.com/places?sort=likes_count\n",
      "https://www.atlasobscura.com/places?page=2&sort=likes_count\n"
     ]
    }
   ],
   "source": [
    "for _ in range(N):\n",
    "    print(page_url)\n",
    "    result = rq.get(page_url)\n",
    "    soup = bs4.BeautifulSoup(result.text)\n",
    "    \n",
    "    cards = soup.find_all(\"div\", {\"class\": \"col-md-4 col-sm-6 col-xs-12\"})\n",
    "    page_urls = [card.find_all(\"a\", {\"class\": \"content-card content-card-place\"})[0].get('href') \n",
    "                 for card in cards]\n",
    "    \n",
    "    top_places.append(page_urls)\n",
    "    \n",
    "    next_page = soup.find_all(\"a\", {\"rel\": \"next\"})[0].get('href')\n",
    "    page_url = home_url + next_page\n",
    "    "
   ]
  },
  {
   "cell_type": "code",
   "execution_count": 5,
   "id": "07a9f596",
   "metadata": {},
   "outputs": [
    {
     "data": {
      "text/plain": [
       "[['/places/city-hall-station',\n",
       "  '/places/highgate-cemetery',\n",
       "  '/places/leadenhall-market',\n",
       "  '/places/wave-organ',\n",
       "  '/places/catacombes-de-paris',\n",
       "  '/places/evolution-store',\n",
       "  '/places/magowans-infinite-mirror-maze',\n",
       "  '/places/underground-tunnels-los-angeles',\n",
       "  '/places/secret-tiled-staircase',\n",
       "  '/places/dream-house',\n",
       "  '/places/the-museum-of-death-los-angeles-california',\n",
       "  '/places/last-bookstore',\n",
       "  '/places/gods-own-junkyard',\n",
       "  '/places/echo-park-time-travel-mart',\n",
       "  '/places/the-ruins-of-st-dunstan-in-the-east-london-england',\n",
       "  '/places/fingal-s-cave',\n",
       "  '/places/wave-rock',\n",
       "  '/places/winchester-mystery-house'],\n",
       " ['/places/roosevelt-island-smallpox-hospital-ruins',\n",
       "  '/places/eastern-state-penitentiary',\n",
       "  '/places/mutter-museum',\n",
       "  '/places/fly-ranch-geyser',\n",
       "  '/places/antelope-canyon',\n",
       "  '/places/the-elevated-acre-new-york-new-york',\n",
       "  '/places/thor-s-well',\n",
       "  '/places/mmuseumm-2',\n",
       "  '/places/seward-street-slides',\n",
       "  '/places/ghibli-museum',\n",
       "  '/places/spreepark',\n",
       "  '/places/twinings-tea-shop',\n",
       "  '/places/the-witches-castle-portland-oregon',\n",
       "  '/places/mount-moriah-cemetery',\n",
       "  '/places/new-orleans-historic-voodoo-museum',\n",
       "  '/places/neon-boneyard',\n",
       "  '/places/museum-vampires',\n",
       "  '/places/wisteria-tunnel']]"
      ]
     },
     "execution_count": 5,
     "metadata": {},
     "output_type": "execute_result"
    }
   ],
   "source": [
    "top_places"
   ]
  },
  {
   "cell_type": "markdown",
   "id": "3b21dc8e",
   "metadata": {},
   "source": [
    "## 1.2 Crawl places"
   ]
  },
  {
   "cell_type": "code",
   "execution_count": 8,
   "id": "a9e55661",
   "metadata": {},
   "outputs": [],
   "source": [
    "# Change\n",
    "parent_dir = \"/Users/Michele/Desktop/Università/Data Science/ADM/HMWK3 ADM/hw3_htmls/\"\n",
    "  \n",
    "for ix, page_refs in enumerate(top_places, start=1):\n",
    "    directory = f'page_{ix}'\n",
    "    path = os.path.join(parent_dir, directory)\n",
    "    os.mkdir(path)\n",
    "\n",
    "    for place_ref in page_refs:\n",
    "        page = rq.get(home_url + place_ref)\n",
    "        place_name = place_ref.split('/')[-1].replace('-', '_')\n",
    "        # print(place_name)\n",
    "\n",
    "        with open(f'{path}/{place_name}.html', 'wb+') as f:\n",
    "            f.write(page.content)\n"
   ]
  },
  {
   "cell_type": "code",
   "execution_count": 22,
   "id": "6621c035",
   "metadata": {},
   "outputs": [
    {
     "data": {
      "text/plain": [
       "\"\\n# for reading the files with bs4\\nwith open('path/to/saving.html', 'rb') as f:\\n    soup = BeautifulSoup(f.read(), 'lxml')\\n    \""
      ]
     },
     "execution_count": 22,
     "metadata": {},
     "output_type": "execute_result"
    }
   ],
   "source": [
    "'''\n",
    "# for reading the files with bs4\n",
    "with open('path/to/saving.html', 'rb') as f:\n",
    "    soup = BeautifulSoup(f.read(), 'lxml')\n",
    "    '''"
   ]
  },
  {
   "cell_type": "code",
   "execution_count": 17,
   "id": "6ebc7d2a",
   "metadata": {},
   "outputs": [],
   "source": [
    "soup = bs4.BeautifulSoup(result.text)"
   ]
  },
  {
   "cell_type": "code",
   "execution_count": 18,
   "id": "25a9bf17",
   "metadata": {},
   "outputs": [],
   "source": [
    "cards = soup.find_all(\"div\", {\"class\": \"col-md-4 col-sm-6 col-xs-12\"})"
   ]
  },
  {
   "cell_type": "code",
   "execution_count": 19,
   "id": "6c9147de",
   "metadata": {},
   "outputs": [
    {
     "data": {
      "text/plain": [
       "[<a href=\"/places?page=3&amp;sort=likes_count\" rel=\"next\">3</a>,\n",
       " <a href=\"/places?page=3&amp;sort=likes_count\" rel=\"next\">Next</a>]"
      ]
     },
     "execution_count": 19,
     "metadata": {},
     "output_type": "execute_result"
    }
   ],
   "source": [
    "next_page = soup.find_all(\"a\", {\"rel\": \"next\"})\n",
    "next_page"
   ]
  },
  {
   "cell_type": "code",
   "execution_count": 20,
   "id": "ba94b6b0",
   "metadata": {},
   "outputs": [],
   "source": [
    "next_href = next_page[0].get('href')"
   ]
  },
  {
   "cell_type": "code",
   "execution_count": 21,
   "id": "14d4deae",
   "metadata": {},
   "outputs": [],
   "source": [
    "next_page = rq.get(home_url+next_href)"
   ]
  },
  {
   "cell_type": "code",
   "execution_count": null,
   "id": "1c1c937f",
   "metadata": {},
   "outputs": [],
   "source": []
  },
  {
   "cell_type": "code",
   "execution_count": null,
   "id": "b7aa456b-a5f1-4dba-97cb-8d5bafd1582e",
   "metadata": {},
   "outputs": [],
   "source": []
  },
  {
   "cell_type": "code",
   "execution_count": null,
   "id": "b96d1cb6-9ef7-479c-bcaa-436fd5ca95de",
   "metadata": {},
   "outputs": [],
   "source": []
  },
  {
   "cell_type": "code",
   "execution_count": null,
   "id": "e7f7931a-3454-48e3-a940-8347f94da77f",
   "metadata": {},
   "outputs": [],
   "source": []
  },
  {
   "cell_type": "markdown",
   "id": "19b0a9e7-dcac-4fe5-a91a-d4b8e8e9695e",
   "metadata": {},
   "source": [
    "## 7. Theoretical question"
   ]
  },
  {
   "cell_type": "markdown",
   "id": "61fb1e5d-7ba1-4746-b1c7-a2c66a5607f2",
   "metadata": {},
   "source": [
    "An imaginary university is interested in accepting some of the applicants for positions to study the Master of Data Science there. Unfortunately, only a few spots are available, so the university requires students to take some exams. Students are then admitted based on how well they perform on these exams. For students to determine whether they have been successfully accepted to the university, the university wants to create a ranking list that includes every student's first name, last name, and total average on its course webpage. Students should be ranked in the list based on their average points in descending order. For example, if two students have the same average punctuation, they should be sorted in ascending order using their first and last names. University will give you the students' information in 'ApplicantsInfo.txt', and you should provide them with the ranking list in another .txt file and name it as 'RankingList.txt' . Kindly help this university in preparing this ranking list."
   ]
  },
  {
   "cell_type": "markdown",
   "id": "f7b94fe5-b8d4-4cbf-8bcd-94037bb68a31",
   "metadata": {},
   "source": [
    "\n",
    "   1 Try solving the problem mentioned above using three different sorting algorithms (do not use any MapReduce algorithm). (Note: Built-in Python functions (like .mean, .sort, etc.) are not allowed to be used. You must implement the algorithms from scratch).\n",
    "   \n",
    "   2 What is the time complexity of each algorithm you have used?\n",
    "   \n",
    "   3 Evaluate the time taken for each of your implementations to answer the query stored in the ApplicantsInfo.txt file and visualize them.\n",
    "   \n",
    "   4 What is the most optimal algorithm, in your opinion, and why?\n",
    "   \n",
    "   5 Implement a sorting algorithm using MapReduce and compare it against the three algorithms previously implemented using the ApplicantsInfo.txt file.\n"
   ]
  },
  {
   "cell_type": "code",
   "execution_count": 1,
   "id": "efb1eb61-de6b-4d20-8f69-060fc95ceb42",
   "metadata": {},
   "outputs": [],
   "source": [
    "n=10000 #number of students  \n",
    "m=50 #number of exams\n",
    "f=open('ApplicantsInfo.txt','r')\n",
    "i=0\n",
    "Applic={} #we want to create a dict of students\n",
    "for line in f:\n",
    "    line=line.split()\n",
    "    if i==0: #skipping the first line because is the shape of the file\n",
    "        i=1\n",
    "    else:\n",
    "        if n!=0:\n",
    "            student=line[0]+' '+line[1]\n",
    "            Applic[student]=[int(x) for x in line[2:m+2]]\n",
    "            n-=1\n",
    "f.close()"
   ]
  },
  {
   "cell_type": "code",
   "execution_count": 2,
   "id": "273671be-09cb-47f8-aeda-f2db30916beb",
   "metadata": {},
   "outputs": [],
   "source": [
    "#Implementing an average function\n",
    "def Average(x):\n",
    "    aver=0\n",
    "    for i in x:\n",
    "        aver+=i\n",
    "    \n",
    "    return round(aver/len(x),2)"
   ]
  },
  {
   "cell_type": "markdown",
   "id": "97a37f69-91f3-47e4-9b1e-700f7a6a7fe6",
   "metadata": {},
   "source": [
    "The running time of Average is $\\Theta(N)$ where N is the length of the input x"
   ]
  },
  {
   "cell_type": "code",
   "execution_count": 3,
   "id": "97e2a23f-c2f1-469d-a6d1-33205250936a",
   "metadata": {},
   "outputs": [],
   "source": [
    "#Creating a list of lists with the averages for each student\n",
    "Rank=[]\n",
    "for name in [stud for stud in Applic.keys()]: \n",
    "    Rank.append([name,Average(Applic[name])])"
   ]
  },
  {
   "cell_type": "code",
   "execution_count": 4,
   "id": "06f7a718-e648-4a64-a7c6-3ddcc7f45330",
   "metadata": {},
   "outputs": [],
   "source": [
    "#Sorting algorithms for list of list\n",
    "#if h=1 it sorts by scores, if h=0 it sorts by names\n",
    "def InsertionSort(Rank,h): \n",
    "    \n",
    "    for i in range(1,len(Rank)):\n",
    "            temp= Rank[i]\n",
    "            j=i-1\n",
    "            while j>=0 and temp[h]>Rank[j][h]:\n",
    "                     Rank[j+1] = Rank[j]\n",
    "                     j-=1  \n",
    "            Rank[j+1] = temp\n",
    "    return Rank\n",
    "############################################\n",
    "def SelectionSort(Rank, h):\n",
    "    \n",
    "    for i in range(len(Rank)):\n",
    "        M = i\n",
    "        for j in range(i + 1,len(Rank)):\n",
    "            if Rank[j][h] > Rank[M][h]:\n",
    "                M = j\n",
    "        (Rank[i], Rank[M]) = (Rank[M], Rank[i])\n",
    "        \n",
    "    return Rank\n",
    "#############################################\n",
    "def BubbleSort(Rank,h):\n",
    "    change = 0\n",
    "    for i in range(len(Rank)-1):\n",
    "        for j in range(0, len(Rank)-i-1):\n",
    "            if Rank[j][h] < Rank[j+1][h]:\n",
    "                change = 1\n",
    "                (Rank[j], Rank[j+1]) = (Rank[j+1], Rank[j])\n",
    "        if change==0:\n",
    "            return Rank\n",
    "    return Rank"
   ]
  },
  {
   "cell_type": "markdown",
   "id": "56efc33e-e174-4cf1-8de1-4c93a820a7ac",
   "metadata": {},
   "source": [
    "All of those algorithms have running time of $\\Theta(N^2)$ where N is the length of the array in input"
   ]
  },
  {
   "cell_type": "code",
   "execution_count": 5,
   "id": "d4b66489-75b1-4d15-9927-a8f12b424c0d",
   "metadata": {},
   "outputs": [],
   "source": [
    "#Sorting the Applicants\n",
    "import timeit \n",
    "unsorted=Rank.copy() #we want to keep the unsorted list to compare this non MapReduced algorithm with the MapReduced one\n",
    "Times=[]\n",
    "for Alg in [1,2,3]: # 1: InsertionSort, 2: SelectionSort, 3:BubbleSort\n",
    "    Rank=unsorted.copy()\n",
    "    start=timeit.default_timer() #this is to evaluate the time required to run the algorithm\n",
    "    #sorting by exams averages\n",
    "    if Alg==1:\n",
    "        Rank=InsertionSort(Rank,1)\n",
    "    elif Alg==2:\n",
    "        Rank=SelectionSort(Rank,1)\n",
    "    elif Alg==3:\n",
    "        Rank=BubbleSort(Rank,1)\n",
    "        \n",
    "    #sorting duplicates by names\n",
    "    i=0 \n",
    "    while i <= (len(Rank)-1):\n",
    "        j=1\n",
    "        while (i+j)<(len(Rank)-1) and Rank[i][1]==Rank[i+j][1]: #to know the length of consecutive elements that have same score\n",
    "            j+=1\n",
    "        if j!=1: \n",
    "            #temp variable to store the correct order (we used [::-1] to sort in ascending order)\n",
    "            if Alg==1:\n",
    "                temp=InsertionSort([Rank[i+k] for k in range(j)],0)[::-1] \n",
    "            elif Alg==2:\n",
    "                temp=SelectionSort([Rank[i+k] for k in range(j)],0)[::-1]\n",
    "            if Alg==3:\n",
    "                temp=BubbleSort([Rank[i+k] for k in range(j)],0)[::-1]\n",
    "            for k in range(j):\n",
    "                Rank[i+k]=temp[k] #changing the order in the Rank\n",
    "            i+=j #just to skip the elements already changed\n",
    "        else:\n",
    "            i+=1\n",
    "\n",
    "    stop=timeit.default_timer()\n",
    "    Times.append(stop-start)\n"
   ]
  },
  {
   "cell_type": "markdown",
   "id": "65a0bdc0-1d0f-42e9-9d65-3e41925dc394",
   "metadata": {},
   "source": [
    "The running time to sort the duplicate is, in the worst case (i.e. all the scores are the same), equal to the running time of the sort method we use to sort by names so it is $\\Theta(N^2)$.\n",
    "\n",
    "So we have that to sort the Rank vector, in the worst case, we need a running time of $\\Theta(2N^2)$"
   ]
  },
  {
   "cell_type": "code",
   "execution_count": 6,
   "id": "96565020-ba2a-476a-a103-a4f8e1e3782d",
   "metadata": {},
   "outputs": [
    {
     "data": {
      "image/png": "[encoded data removed]",
      "text/plain": [
       "<Figure size 640x480 with 1 Axes>"
      ]
     },
     "metadata": {},
     "output_type": "display_data"
    },
    {
     "data": {
      "text/plain": [
       "[4.035674, 4.079953, 7.444565399999998]"
      ]
     },
     "execution_count": 6,
     "metadata": {},
     "output_type": "execute_result"
    }
   ],
   "source": [
    "#Plotting the running times of each algorithm\n",
    "import matplotlib.pyplot as plt\n",
    "plt.ylabel('seconds')\n",
    "plt.xlabel('Sorting Alg')\n",
    "plt.bar([1,2,3],Times)\n",
    "plt.show()\n",
    "Times"
   ]
  },
  {
   "cell_type": "markdown",
   "id": "bc26645c-24de-45a8-b6c4-f991f20e8fee",
   "metadata": {},
   "source": [
    "As we can see, the InsertionSort algorithm is the best one of the non MapReduced algorithms"
   ]
  },
  {
   "cell_type": "code",
   "execution_count": 7,
   "id": "05a65f93-02df-4bc5-8042-9d3be7d9dfa1",
   "metadata": {},
   "outputs": [],
   "source": [
    "#implementing a MapReduced algorithm to confront the running times\n",
    "\n",
    "def MergeSort(Rank,h):\n",
    "    \n",
    "    if len(Rank) == 1:\n",
    "        return Rank\n",
    "\n",
    "    l = len(Rank) // 2\n",
    "    left = MergeSort(Rank[:l],h)\n",
    "    right = MergeSort(Rank[l:],h)\n",
    "    return merge(left, right,h)\n",
    "#####################################\n",
    "def merge(left, right,h):\n",
    "    merged = []\n",
    "    i = 0 \n",
    "    j=0\n",
    "    \n",
    "    while i < len(left) and j < len(right):\n",
    "        if left[i][h] > right[j][h]:\n",
    "            merged.append(left[i])\n",
    "            i += 1\n",
    "        else:\n",
    "            merged.append(right[j])\n",
    "            j += 1\n",
    "    merged.extend(left[i:])\n",
    "    merged.extend(right[j:])\n",
    "    return merged"
   ]
  },
  {
   "cell_type": "code",
   "execution_count": 8,
   "id": "eed10efd-551d-4fbc-848b-55a37d2e3028",
   "metadata": {},
   "outputs": [],
   "source": [
    "Rank=unsorted #because the Rank list was already sorted by previous codes so I'll assign back the unsorted one\n",
    "start=timeit.default_timer()\n",
    "#sorting Rank by scores\n",
    "Rank=MergeSort(Rank,1)\n",
    "#sorting duplicates by names (Reusing previous algorithm)\n",
    "i=0 \n",
    "while i <= (len(Rank)-1):\n",
    "        j=1\n",
    "        while (i+j)<(len(Rank)-1) and Rank[i][1]==Rank[i+j][1]: #to know the length of consecutive elements that have same score\n",
    "            j+=1\n",
    "        if j!=1: \n",
    "            #temp variable to store the correct order (we used [::-1] to sort in ascending order)\n",
    "            temp=MergeSort([Rank[i+k] for k in range(j)],0)[::-1] \n",
    "           \n",
    "            for k in range(j):\n",
    "                Rank[i+k]=temp[k] #changing the order in the Rank\n",
    "            i+=j #just to skip the elements already changed\n",
    "        else:\n",
    "            i+=1\n",
    "stop=timeit.default_timer()\n",
    "Times.append(stop-start)"
   ]
  },
  {
   "cell_type": "code",
   "execution_count": 9,
   "id": "171bc670-aa17-4e68-b48f-f8402038a19e",
   "metadata": {},
   "outputs": [
    {
     "data": {
      "image/png": "[encoded data removed]",
      "text/plain": [
       "<Figure size 640x480 with 1 Axes>"
      ]
     },
     "metadata": {},
     "output_type": "display_data"
    },
    {
     "data": {
      "text/plain": [
       "[4.035674, 4.079953, 7.444565399999998, 0.06906580000000417]"
      ]
     },
     "execution_count": 9,
     "metadata": {},
     "output_type": "execute_result"
    }
   ],
   "source": [
    "#Plotting the running times\n",
    "plt.ylabel('seconds')\n",
    "plt.xlabel('Sorting Alg')\n",
    "plt.bar([1,2,3,4],Times)\n",
    "plt.show()\n",
    "Times"
   ]
  },
  {
   "cell_type": "code",
   "execution_count": 10,
   "id": "65ea793c-52f1-445f-a844-10290e9491f6",
   "metadata": {},
   "outputs": [
    {
     "name": "stdout",
     "output_type": "stream",
     "text": [
      "Michael Hunley 26.02\n",
      "Robert Seelbach 25.94\n",
      "Felicia Payne 25.88\n",
      "Karen Viard 25.88\n",
      "Nakia Loza 25.82\n",
      "Walter Jones 25.76\n",
      "Jasmine Harrell 25.72\n",
      "Mary Perrella 25.66\n",
      "Stanley Hartrick 25.64\n",
      "Samuel Winfrey 25.6\n"
     ]
    }
   ],
   "source": [
    "#TOP TEN STUDENTS\n",
    "assert len(Rank)>=10\n",
    "\n",
    "for i in range(10):\n",
    "    print(Rank[i][0]+' '+str(Rank[i][1]))\n",
    "    \n"
   ]
  },
  {
   "cell_type": "code",
   "execution_count": 11,
   "id": "3312f92a-c8a6-4d5a-954f-4625b6a2f310",
   "metadata": {},
   "outputs": [],
   "source": [
    "F=open('RankingList.txt','w') #creating a .txt file with the sorted Applicants\n",
    "for i in range(len(Rank)):\n",
    "    F.write(Rank[i][0]+' '+str(Rank[i][1])+'\\n')\n",
    "F.close()"
   ]
  }
 ],
 "metadata": {
  "kernelspec": {
   "display_name": "Python 3 (ipykernel)",
   "language": "python",
   "name": "python3"
  },
  "language_info": {
   "codemirror_mode": {
    "name": "ipython",
    "version": 3
   },
   "file_extension": ".py",
   "mimetype": "text/x-python",
   "name": "python",
   "nbconvert_exporter": "python",
   "pygments_lexer": "ipython3",
   "version": "3.9.12"
  }
 },
 "nbformat": 4,
 "nbformat_minor": 5
}
