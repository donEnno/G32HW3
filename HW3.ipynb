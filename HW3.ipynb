{
 "cells": [
  {
   "cell_type": "code",
   "execution_count": 76,
   "id": "861e02c7",
   "metadata": {},
   "outputs": [],
   "source": [
    "import pandas as pd\n",
    "import numpy as np\n",
    "import requests as rq\n",
    "import bs4\n",
    "import lxml\n",
    "import os"
   ]
  },
  {
   "cell_type": "code",
   "execution_count": 78,
   "id": "1df0e8ce",
   "metadata": {},
   "outputs": [
    {
     "data": {
      "text/plain": [
       "'/home/enno/sapienza/amdm/hw'"
      ]
     },
     "execution_count": 78,
     "metadata": {},
     "output_type": "execute_result"
    }
   ],
   "source": [
    "os.getcwd()"
   ]
  },
  {
   "cell_type": "markdown",
   "id": "05e3e3e5",
   "metadata": {},
   "source": [
    "# 1. Data collection"
   ]
  },
  {
   "cell_type": "markdown",
   "id": "72bcb07a",
   "metadata": {},
   "source": [
    "## 1.1 Get the list of places"
   ]
  },
  {
   "cell_type": "code",
   "execution_count": 80,
   "id": "6b2893f9",
   "metadata": {},
   "outputs": [],
   "source": [
    "home_url = \"https://www.atlasobscura.com\"\n",
    "page_url = \"https://www.atlasobscura.com/places?sort=likes_count\"\n",
    "initial_result = rq.get(page_url)"
   ]
  },
  {
   "cell_type": "code",
   "execution_count": 92,
   "id": "d1eaa4ff",
   "metadata": {},
   "outputs": [],
   "source": [
    "top_places = []\n",
    "N = 2  # 400"
   ]
  },
  {
   "cell_type": "code",
   "execution_count": 93,
   "id": "dbe7bf14",
   "metadata": {},
   "outputs": [
    {
     "name": "stdout",
     "output_type": "stream",
     "text": [
      "https://www.atlasobscura.com/places?page=7&sort=likes_count\n",
      "https://www.atlasobscura.com/places?page=8&sort=likes_count\n"
     ]
    }
   ],
   "source": [
    "for _ in range(N):\n",
    "    print(page_url)\n",
    "    result = rq.get(page_url)\n",
    "    soup = bs4.BeautifulSoup(result.text)\n",
    "    \n",
    "    cards = soup.find_all(\"div\", {\"class\": \"col-md-4 col-sm-6 col-xs-12\"})\n",
    "    page_urls = [card.find_all(\"a\", {\"class\": \"content-card content-card-place\"})[0].get('href') \n",
    "                 for card in cards]\n",
    "    \n",
    "    top_places.append(page_urls)\n",
    "    \n",
    "    next_page = soup.find_all(\"a\", {\"rel\": \"next\"})[0].get('href')\n",
    "    page_url = home_url + next_page\n",
    "    "
   ]
  },
  {
   "cell_type": "code",
   "execution_count": 94,
   "id": "07a9f596",
   "metadata": {},
   "outputs": [
    {
     "data": {
      "text/plain": [
       "[['/places/international-church-of-cannabis',\n",
       "  '/places/magic-circle-museum',\n",
       "  '/places/jean-lafitte-s-old-absinthe-house',\n",
       "  '/places/phantasma-gloria',\n",
       "  '/places/watts-towers',\n",
       "  '/places/goodwins-court',\n",
       "  '/places/cecil-court',\n",
       "  '/places/the-lost-sea-sweetwater-tennessee',\n",
       "  '/places/woolly-mammoth-antiques-and-oddities',\n",
       "  '/places/tiffany-dome',\n",
       "  '/places/museum-sex',\n",
       "  '/places/nieuwe-spiegelstraat',\n",
       "  '/places/forest-hills-cemetery',\n",
       "  '/places/galcos-soda-pop-stop',\n",
       "  '/places/garden-of-oz',\n",
       "  '/places/shakespeare-and-company',\n",
       "  '/places/shofuso-japanese-house-and-garden',\n",
       "  '/places/hall-of-mosses'],\n",
       " ['/places/house-of-nicolas-flamel',\n",
       "  '/places/roosevelt-island-cat-sanctuary',\n",
       "  '/places/blue-lagoon',\n",
       "  '/places/cave-of-kelpius',\n",
       "  '/places/nine-mile-canyon',\n",
       "  '/places/torre-argentina-roman-cat-sanctuary',\n",
       "  '/places/montmartre-cemetery',\n",
       "  '/places/marie-lavaus-house-of-voodoo',\n",
       "  '/places/neuschwanstein-castle',\n",
       "  '/places/wood-line',\n",
       "  '/places/berlin-botanical-garden',\n",
       "  '/places/dolls-head-trail-2',\n",
       "  '/places/jigokudani-park-japan',\n",
       "  '/places/labyrinth-lands-end',\n",
       "  '/places/the-singing-oak-new-orleans-louisiana',\n",
       "  '/places/museum-weird',\n",
       "  '/places/museum-of-pop-culture',\n",
       "  '/places/the-warrens-occult-museum-monroe-connecticut']]"
      ]
     },
     "execution_count": 94,
     "metadata": {},
     "output_type": "execute_result"
    }
   ],
   "source": [
    "top_places"
   ]
  },
  {
   "cell_type": "markdown",
   "id": "3b21dc8e",
   "metadata": {},
   "source": [
    "## 1.2 Crawl places"
   ]
  },
  {
   "cell_type": "code",
   "execution_count": 97,
   "id": "a9e55661",
   "metadata": {},
   "outputs": [],
   "source": [
    "parent_dir = \"/home/enno/sapienza/amdm/hw/hw3_htmls/\"\n",
    "  \n",
    "for ix, page_refs in enumerate(top_places, start=1):\n",
    "    directory = f'page_{ix}'\n",
    "    path = os.path.join(parent_dir, directory)\n",
    "    os.mkdir(path)\n",
    "\n",
    "    for place_ref in page_refs:\n",
    "        page = rq.get(home_url + place_ref)\n",
    "        place_name = place_ref.split('/')[-1].replace('-', '_')\n",
    "        # print(place_name)\n",
    "\n",
    "        with open(f'{path}/{place_name}.html', 'wb+') as f:\n",
    "            f.write(page.content)\n"
   ]
  },
  {
   "cell_type": "code",
   "execution_count": null,
   "id": "6621c035",
   "metadata": {},
   "outputs": [],
   "source": [
    "# for reading the files with bs4\n",
    "with open('path/to/saving.html', 'rb') as f:\n",
    "    soup = BeautifulSoup(f.read(), 'lxml')"
   ]
  },
  {
   "cell_type": "code",
   "execution_count": 9,
   "id": "6ebc7d2a",
   "metadata": {},
   "outputs": [],
   "source": [
    "soup = bs4.BeautifulSoup(result.text)"
   ]
  },
  {
   "cell_type": "code",
   "execution_count": 13,
   "id": "25a9bf17",
   "metadata": {},
   "outputs": [],
   "source": [
    "cards = soup.find_all(\"div\", {\"class\": \"col-md-4 col-sm-6 col-xs-12\"})"
   ]
  },
  {
   "cell_type": "code",
   "execution_count": 40,
   "id": "6c9147de",
   "metadata": {},
   "outputs": [
    {
     "data": {
      "text/plain": [
       "[<a href=\"/places?page=2&amp;sort=likes_count\" rel=\"next\">2</a>,\n",
       " <a href=\"/places?page=2&amp;sort=likes_count\" rel=\"next\">Next</a>]"
      ]
     },
     "execution_count": 40,
     "metadata": {},
     "output_type": "execute_result"
    }
   ],
   "source": [
    "next_page = soup.find_all(\"a\", {\"rel\": \"next\"})\n",
    "next_page"
   ]
  },
  {
   "cell_type": "code",
   "execution_count": 45,
   "id": "ba94b6b0",
   "metadata": {},
   "outputs": [],
   "source": [
    "next_href = next_page[0].get('href')"
   ]
  },
  {
   "cell_type": "code",
   "execution_count": null,
   "id": "14d4deae",
   "metadata": {},
   "outputs": [],
   "source": [
    "next_page = rq.get(home_url+next_href)"
   ]
  },
  {
   "cell_type": "code",
   "execution_count": null,
   "id": "1c1c937f",
   "metadata": {},
   "outputs": [],
   "source": []
  }
 ],
 "metadata": {
  "kernelspec": {
   "display_name": "Python 3 (ipykernel)",
   "language": "python",
   "name": "python3"
  },
  "language_info": {
   "codemirror_mode": {
    "name": "ipython",
    "version": 3
   },
   "file_extension": ".py",
   "mimetype": "text/x-python",
   "name": "python",
   "nbconvert_exporter": "python",
   "pygments_lexer": "ipython3",
   "version": "3.9.7"
  }
 },
 "nbformat": 4,
 "nbformat_minor": 5
}
